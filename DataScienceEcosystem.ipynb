{
 "cells": [
  {
   "cell_type": "markdown",
   "id": "8faa8f8d-cb49-4e85-95b2-7ecb17a324ba",
   "metadata": {},
   "source": [
    "# Data Science Tools and Ecosystem"
   ]
  },
  {
   "cell_type": "markdown",
   "id": "5b99a12e-f56f-457f-888b-fbe26b4d1379",
   "metadata": {},
   "source": [
    "In this notebook, Data Sceince Tool and Ecosystem are summarized."
   ]
  },
  {
   "cell_type": "markdown",
   "id": "08310b6c-b748-4f89-b25a-912a6197d4d1",
   "metadata": {},
   "source": [
    "**Objectives:**\n",
    "* List popular languages for Data Science \n",
    "* List common libraries\n",
    "* List Data Science Tools\n",
    "* Complete Arithmetic"
   ]
  },
  {
   "cell_type": "markdown",
   "id": "a382d030-26ef-452d-9989-7fe78f4da6c0",
   "metadata": {},
   "source": [
    "Some of the popular languages that Data Scientists use are: \n",
    "1. Python\n",
    "2. SQL\n",
    "3. R\n",
    "4. Julia\n",
    "5. JavaScript"
   ]
  },
  {
   "cell_type": "markdown",
   "id": "ba73f8b9-12c9-432c-b56c-f6457843fb48",
   "metadata": {},
   "source": [
    "Some of the commonly used libraries used by Data Scientisits include: \n",
    "1. Scikit-learn\n",
    "2. PyTorch\n",
    "3. TensorFlow\n",
    "4. SciPy\n",
    "5. Keras"
   ]
  },
  {
   "cell_type": "markdown",
   "id": "bede7304-beee-4a2d-9bbd-f01251da4a7d",
   "metadata": {},
   "source": [
    "| Data Science Tools |\n",
    "| --- |\n",
    "| RStudio |\n",
    "| Apache Spark |\n",
    "| TensorFlow |"
   ]
  },
  {
   "cell_type": "markdown",
   "id": "b04304ea-6cbc-4118-85e0-f1db5d422850",
   "metadata": {},
   "source": [
    "### Below are a few examples of evaluation arithmetic expressions in Python "
   ]
  },
  {
   "cell_type": "code",
   "execution_count": 2,
   "id": "4e52cc57-0c24-4667-8a25-f9ca1913e3c3",
   "metadata": {},
   "outputs": [
    {
     "data": {
      "text/plain": [
       "17"
      ]
     },
     "execution_count": 2,
     "metadata": {},
     "output_type": "execute_result"
    }
   ],
   "source": [
    "# This is a simple arithmetic expression to multiply then add integers\n",
    "(3*4)+5"
   ]
  },
  {
   "cell_type": "code",
   "execution_count": 3,
   "id": "c3956424-f652-40d6-836b-e791f066a2e0",
   "metadata": {},
   "outputs": [
    {
     "data": {
      "text/plain": [
       "3.3333333333333335"
      ]
     },
     "execution_count": 3,
     "metadata": {},
     "output_type": "execute_result"
    }
   ],
   "source": [
    "# This will convert 200 minutes to hours by dividing by 60\n",
    "200/60"
   ]
  },
  {
   "cell_type": "markdown",
   "id": "7747a051-4858-49f7-9945-bdc39198d60c",
   "metadata": {},
   "source": [
    "## Author\n",
    "Mason Meadows"
   ]
  }
 ],
 "metadata": {
  "kernelspec": {
   "display_name": "Python 3 (ipykernel)",
   "language": "python",
   "name": "python3"
  },
  "language_info": {
   "codemirror_mode": {
    "name": "ipython",
    "version": 3
   },
   "file_extension": ".py",
   "mimetype": "text/x-python",
   "name": "python",
   "nbconvert_exporter": "python",
   "pygments_lexer": "ipython3",
   "version": "3.10.5"
  }
 },
 "nbformat": 4,
 "nbformat_minor": 5
}
